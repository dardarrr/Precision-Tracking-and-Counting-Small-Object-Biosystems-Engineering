{
  "nbformat": 4,
  "nbformat_minor": 0,
  "metadata": {
    "colab": {
      "provenance": [],
      "authorship_tag": "ABX9TyPWvJLm7JC6/AwXV7y43pZU",
      "include_colab_link": true
    },
    "kernelspec": {
      "name": "python3",
      "display_name": "Python 3"
    },
    "language_info": {
      "name": "python"
    }
  },
  "cells": [
    {
      "cell_type": "markdown",
      "metadata": {
        "id": "view-in-github",
        "colab_type": "text"
      },
      "source": [
        "<a href=\"https://colab.research.google.com/github/dardarrr/Tracking-and-Counting-with-Slicing-Frame-Video-Biosystem-Engineering-ITERA/blob/main/Tracking%20and%20Counting%20with%20Slicing%20Frame%20Video-Biosystem%20Engineering-ITERA.ipynb\" target=\"_parent\"><img src=\"https://colab.research.google.com/assets/colab-badge.svg\" alt=\"Open In Colab\"/></a>"
      ]
    },
    {
      "cell_type": "markdown",
      "source": [
        "![picture](https://drive.google.com/uc?export=view&id=1cxI4q1WI8HGk0Dr_qKtgREi2NPJZK7a9)\n",
        "#Counting Pineapple Seeds - Biosystem Engineering - ITERA\n",
        "\n",
        "---\n",
        "\n",
        "\n",
        "\n",
        "**Let's count ur pineapple seeds!**\n",
        "\n",
        "Team :\n",
        "- Mhd. Kadar Fitrawan\n",
        "- Arya Dwi Nofanda\n",
        "- Wahyu Wijaya\n",
        "\n",
        "Teknik Biosistem - Institut Teknologi Sumatera"
      ],
      "metadata": {
        "id": "IWc2s08br5Is"
      }
    },
    {
      "cell_type": "markdown",
      "source": [
        "#Akses GPU"
      ],
      "metadata": {
        "id": "lWQDmlYzsBj1"
      }
    },
    {
      "cell_type": "code",
      "execution_count": null,
      "metadata": {
        "id": "25-0tmlmrr5e"
      },
      "outputs": [],
      "source": [
        "!nvidia-smi"
      ]
    },
    {
      "cell_type": "code",
      "source": [
        "import os\n",
        "HOME = os.getcwd()\n",
        "print(HOME)"
      ],
      "metadata": {
        "id": "ueXsq408sLU9"
      },
      "execution_count": null,
      "outputs": []
    },
    {
      "cell_type": "markdown",
      "source": [
        "#Clone Github"
      ],
      "metadata": {
        "id": "DcWVRBcPsMOc"
      }
    },
    {
      "cell_type": "code",
      "source": [
        "!git clone https://github.com/dardarrr/Tracking-and-Counting-with-Slicing-Frame-Video-Biosystem-Engineering-ITERA.git"
      ],
      "metadata": {
        "id": "RD6YELnRsRVK"
      },
      "execution_count": null,
      "outputs": []
    },
    {
      "cell_type": "code",
      "source": [
        "cd Tracking-and-Counting-with-Slicing-Frame-Video-Biosystem-Engineering-ITERA"
      ],
      "metadata": {
        "id": "EEXKCwQAsUFv"
      },
      "execution_count": null,
      "outputs": []
    },
    {
      "cell_type": "markdown",
      "source": [
        "#Install Dependencies\n",
        "Jika ada pemberitahuan restart session, restart session saja, kemudian run 'cd' dan run install requirements kembali"
      ],
      "metadata": {
        "id": "8ENrgYtOsXOm"
      }
    },
    {
      "cell_type": "code",
      "source": [
        "!pip install -r requirements.txt"
      ],
      "metadata": {
        "id": "y2TXfm1zsZ0V"
      },
      "execution_count": null,
      "outputs": []
    },
    {
      "cell_type": "markdown",
      "source": [
        "#Lets Start"
      ],
      "metadata": {
        "id": "S74pQEzDsuzj"
      }
    },
    {
      "cell_type": "code",
      "source": [
        "!python trackcount.py --video_path \"/path/to/inputvideo.MP4\" --output_video \"trackingandcounting.mp4\" --model_path \"/path/to/modelyolov8.pt\" --line_coords 106 951 1858 970 --label_count Crowns --confidence_threshold 0.383"
      ],
      "metadata": {
        "id": "NJxQsIHfsykZ"
      },
      "execution_count": null,
      "outputs": []
    }
  ]
}