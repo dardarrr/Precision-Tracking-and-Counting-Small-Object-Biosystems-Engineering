{
  "nbformat": 4,
  "nbformat_minor": 0,
  "metadata": {
    "colab": {
      "provenance": [],
      "authorship_tag": "ABX9TyPoBiFOEe4iSTgZx+kXWF5y",
      "include_colab_link": true
    },
    "kernelspec": {
      "name": "python3",
      "display_name": "Python 3"
    },
    "language_info": {
      "name": "python"
    }
  },
  "cells": [
    {
      "cell_type": "markdown",
      "metadata": {
        "id": "view-in-github",
        "colab_type": "text"
      },
      "source": [
        "<a href=\"https://colab.research.google.com/github/dardarrr/Tracking-and-Counting-with-Slicing-Frame-Video-Biosystem-Engineering-ITERA/blob/main/Tracking%20and%20Counting%20Object%20with%20Slicing%20Frame%20Video-Biosystem%20Engineering-ITERA.ipynb\" target=\"_parent\"><img src=\"https://colab.research.google.com/assets/colab-badge.svg\" alt=\"Open In Colab\"/></a>"
      ]
    },
    {
      "cell_type": "markdown",
      "source": [
        "![picture](https://drive.google.com/uc?export=view&id=1cxI4q1WI8HGk0Dr_qKtgREi2NPJZK7a9)\n",
        "#Counting Pineapple Seeds - Biosystem Engineering - ITERA\n",
        "\n",
        "---\n",
        "\n",
        "\n",
        "\n",
        "**Let's count ur pineapple seeds!**\n",
        "\n",
        "Team :\n",
        "- Mhd. Kadar Fitrawan\n",
        "- Arya Dwi Nofanda\n",
        "- Wahyu Wijaya\n",
        "\n",
        "Teknik Biosistem - Institut Teknologi Sumatera"
      ],
      "metadata": {
        "id": "ITEZnU6Mxdtm"
      }
    },
    {
      "cell_type": "markdown",
      "source": [
        "#Akses GPU"
      ],
      "metadata": {
        "id": "oiA092rGxqQC"
      }
    },
    {
      "cell_type": "code",
      "execution_count": null,
      "metadata": {
        "id": "DSMc7s2kxc8X"
      },
      "outputs": [],
      "source": [
        "!nvidia-smi"
      ]
    },
    {
      "cell_type": "code",
      "source": [
        "import os\n",
        "HOME = os.getcwd()\n",
        "print(HOME)"
      ],
      "metadata": {
        "id": "6t6Vz7kBxsyP"
      },
      "execution_count": null,
      "outputs": []
    },
    {
      "cell_type": "markdown",
      "source": [
        "#Clone Repository"
      ],
      "metadata": {
        "id": "0VZzbaZnxvl_"
      }
    },
    {
      "cell_type": "code",
      "source": [
        "!git clone https://github.com/dardarrr/Tracking-and-Counting-with-Slicing-Frame-Video-Biosystem-Engineering-ITERA.git"
      ],
      "metadata": {
        "id": "uDUCvxCQxzUE"
      },
      "execution_count": null,
      "outputs": []
    },
    {
      "cell_type": "code",
      "source": [
        "cd Tracking-and-Counting-with-Slicing-Frame-Video-Biosystem-Engineering-ITERA"
      ],
      "metadata": {
        "id": "aAmooZxNx3ln"
      },
      "execution_count": null,
      "outputs": []
    },
    {
      "cell_type": "markdown",
      "source": [
        "#Install Dependencies\n",
        "Jika ada pemberitahuan \"Restart Session\", silahkan di restart, kemudian run 'cd' dan install requirements kembali."
      ],
      "metadata": {
        "id": "9E9SfqOvx6EB"
      }
    },
    {
      "cell_type": "code",
      "source": [
        "!pip install -r requirements.txt"
      ],
      "metadata": {
        "id": "r2jPZt5Zx-hn"
      },
      "execution_count": null,
      "outputs": []
    },
    {
      "cell_type": "markdown",
      "source": [
        "#Let's Start"
      ],
      "metadata": {
        "id": "JI3amEyBySDM"
      }
    },
    {
      "cell_type": "code",
      "source": [
        "!python trackcount.py --video_path \"/path/to/inputvideo.MP4\" --output_video \"trackingandcounting.mp4\" --model_path \"/path/to/modelyolov8.pt\" --line_coords 106 951 1858 970 --label_count Crowns --confidence_threshold 0.383"
      ],
      "metadata": {
        "id": "OEW6kOy4yW4x"
      },
      "execution_count": null,
      "outputs": []
    },
    {
      "cell_type": "markdown",
      "source": [
        "Thank you. If you encounter any problems, contact me at mhd.kadarfitrawan@gmail.com"
      ],
      "metadata": {
        "id": "7QdmGOyGyfoY"
      }
    }
  ]
}